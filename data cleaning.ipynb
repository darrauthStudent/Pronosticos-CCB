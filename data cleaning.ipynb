{
 "cells": [
  {
   "cell_type": "code",
   "execution_count": 1,
   "id": "41ff4750",
   "metadata": {},
   "outputs": [],
   "source": [
    "import pandas as pd\n",
    "import numpy as np\n",
    "pd.set_option('display.max_columns', None)\n",
    "from src.etl import export_dict_to_feather"
   ]
  },
  {
   "cell_type": "code",
   "execution_count": 2,
   "id": "7fe98b13",
   "metadata": {},
   "outputs": [],
   "source": [
    "df = pd.read_csv('data/Data raw.csv', delimiter=';')\n"
   ]
  },
  {
   "cell_type": "code",
   "execution_count": 3,
   "id": "19dff8de",
   "metadata": {},
   "outputs": [],
   "source": [
    "lista_columnas = [\" FECHA \", \" INGRESOS_MATRICULAS \", \" INGRESOS_RENOVACIONES \", \" INGRESOS_ESAL \", \" MATRICULA_COMERCIANTE \", \" RENOVADOS_ESAL \", \" RENOVADOS_COMERCIANTE \"]"
   ]
  },
  {
   "cell_type": "code",
   "execution_count": 4,
   "id": "07154deb",
   "metadata": {},
   "outputs": [],
   "source": [
    "df = df[lista_columnas]"
   ]
  },
  {
   "cell_type": "code",
   "execution_count": 5,
   "id": "a53d3e89",
   "metadata": {},
   "outputs": [],
   "source": [
    "# Renombrar columnas para mejor legibilidad\n",
    "df = df.rename(columns={\n",
    "    ' FECHA ': 'Fecha',\n",
    "    ' INGRESOS_MATRICULAS ': 'Ingresos Matrículas',\n",
    "    ' INGRESOS_RENOVACIONES ': 'Ingresos Renovaciones',\n",
    "    ' INGRESOS_ESAL ': 'Ingresos ESAL',\n",
    "    ' MATRICULA_COMERCIANTE ': 'Matrícula Comerciante',\n",
    "    ' RENOVADOS_ESAL ': 'Renovados ESAL',\n",
    "    ' RENOVADOS_COMERCIANTE ': 'Renovados Comerciante'\n",
    "})"
   ]
  },
  {
   "cell_type": "code",
   "execution_count": 6,
   "id": "7dbe27d3",
   "metadata": {},
   "outputs": [],
   "source": [
    "# Función para limpiar y convertir valores monetarios a numéricos\n",
    "def clean_currency_column(series):\n",
    "    \"\"\"\n",
    "    Convierte una serie con formato de moneda a valores numéricos\n",
    "    Maneja formatos como: $540,778,126, $ 738,00, etc.\n",
    "    \"\"\"\n",
    "    if series.dtype == 'object':\n",
    "        # Remover símbolos de moneda, espacios, y comas\n",
    "        cleaned = series.astype(str)\n",
    "        cleaned = cleaned.str.replace('$', '', regex=False)\n",
    "        cleaned = cleaned.str.replace(',', '', regex=False)\n",
    "        cleaned = cleaned.str.strip()\n",
    "        \n",
    "        # Reemplazar valores vacíos o 'nan' con NaN\n",
    "        cleaned = cleaned.replace(['', 'nan', 'None'], pd.NA)\n",
    "        \n",
    "        # Convertir a numérico\n",
    "        try:\n",
    "            return pd.to_numeric(cleaned, errors='coerce')\n",
    "        except:\n",
    "            return series\n",
    "    else:\n",
    "        return series\n",
    "\n",
    "# Aplicar limpieza a todas las columnas excepto Fecha\n",
    "\n",
    "for col in df.columns:\n",
    "    if col != 'Fecha':\n",
    "        original_dtype = df[col].dtype\n",
    "        df[col] = clean_currency_column(df[col])\n",
    "       "
   ]
  },
  {
   "cell_type": "code",
   "execution_count": 7,
   "id": "1df6e506",
   "metadata": {},
   "outputs": [
    {
     "name": "stdout",
     "output_type": "stream",
     "text": [
      "Convirtiendo columna de fecha...\n"
     ]
    }
   ],
   "source": [
    "# Convertir la columna de fecha a datetime\n",
    "print(\"Convirtiendo columna de fecha...\")\n",
    "# Option 1: Convert to Period for proper monthly representation\n",
    "df['Fecha'] = pd.to_datetime(df['Fecha'], format='%m/%d/%Y', errors='coerce').dt.to_period('M')\n"
   ]
  },
  {
   "cell_type": "code",
   "execution_count": 8,
   "id": "c0c895ec",
   "metadata": {},
   "outputs": [],
   "source": [
    "# Crear diccionario donde cada elemento contiene fecha y una columna\n",
    "# La llave es el nombre de la columna\n",
    "\n",
    "diccionario_datos = {}\n",
    "\n",
    "# Obtener las columnas excepto 'FECHA'\n",
    "columnas_datos = [col for col in df.columns if col != 'Fecha']\n",
    "\n",
    "# Crear un elemento del diccionario para cada columna\n",
    "for columna in columnas_datos:\n",
    "    diccionario_datos[columna] = df[['Fecha', columna]].copy()\n",
    "\n"
   ]
  },
  {
   "cell_type": "code",
   "execution_count": 9,
   "id": "e74d7da4",
   "metadata": {},
   "outputs": [],
   "source": [
    "# Eliminar filas con valores nulos en cada DataFrame\n",
    "for columna in diccionario_datos.keys():\n",
    "    # Eliminar filas donde cualquier columna tenga valores nulos\n",
    "    diccionario_datos[columna] = diccionario_datos[columna].dropna()\n",
    "\n"
   ]
  },
  {
   "cell_type": "code",
   "execution_count": 10,
   "id": "cd2aa9bb",
   "metadata": {},
   "outputs": [],
   "source": [
    "\n",
    "# EJECUTAR LA FUNCIÓN CON EL DICCIONARIO\n",
    "manifest_resultado = export_dict_to_feather(\n",
    "    data_dict=diccionario_datos,\n",
    "    base_path=\"data/feather\",\n",
    "    manifest_path=\"data/feather_manifest.json\",\n",
    "    compression=\"lz4\",\n",
    "    category_threshold=0.5\n",
    ")\n",
    "\n"
   ]
  }
 ],
 "metadata": {
  "kernelspec": {
   "display_name": "cronos",
   "language": "python",
   "name": "python3"
  },
  "language_info": {
   "codemirror_mode": {
    "name": "ipython",
    "version": 3
   },
   "file_extension": ".py",
   "mimetype": "text/x-python",
   "name": "python",
   "nbconvert_exporter": "python",
   "pygments_lexer": "ipython3",
   "version": "3.11.9"
  }
 },
 "nbformat": 4,
 "nbformat_minor": 5
}
